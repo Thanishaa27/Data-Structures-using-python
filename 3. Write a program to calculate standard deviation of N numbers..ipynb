{
 "cells": [
  {
   "cell_type": "code",
   "execution_count": 1,
   "id": "aa4a7fea-bdc6-4055-b398-21f0bee4d1ab",
   "metadata": {},
   "outputs": [
    {
     "name": "stdin",
     "output_type": "stream",
     "text": [
      "Enter number of elements:  3\n",
      "Enter element 1:  34\n",
      "Enter element 2:  56\n",
      "Enter element 3:  43\n"
     ]
    },
    {
     "name": "stdout",
     "output_type": "stream",
     "text": [
      "Standard Deviation: 9.030811456096044\n"
     ]
    }
   ],
   "source": [
    "#3. Write a program to calculate standard deviation of N numbers.\n",
    "import math\n",
    "\n",
    "def standard_deviation():\n",
    "    n = int(input(\"Enter number of elements: \"))\n",
    "    arr = [float(input(f\"Enter element {i+1}: \")) for i in range(n)]\n",
    "    mean = sum(arr) / n\n",
    "    variance = sum((x - mean) ** 2 for x in arr) / n\n",
    "    std_dev = math.sqrt(variance)\n",
    "    print(f\"Standard Deviation: {std_dev}\")\n",
    "\n",
    "standard_deviation()"
   ]
  }
 ],
 "metadata": {
  "kernelspec": {
   "display_name": "Python 3 (ipykernel)",
   "language": "python",
   "name": "python3"
  },
  "language_info": {
   "codemirror_mode": {
    "name": "ipython",
    "version": 3
   },
   "file_extension": ".py",
   "mimetype": "text/x-python",
   "name": "python",
   "nbconvert_exporter": "python",
   "pygments_lexer": "ipython3",
   "version": "3.12.4"
  }
 },
 "nbformat": 4,
 "nbformat_minor": 5
}
