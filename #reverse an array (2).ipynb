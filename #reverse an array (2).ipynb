{
 "cells": [
  {
   "cell_type": "code",
   "execution_count": 15,
   "id": "00a4926f-7528-48e7-9095-32d4f8b935f2",
   "metadata": {},
   "outputs": [
    {
     "name": "stdout",
     "output_type": "stream",
     "text": [
      "[5 4 8 7 2 5 3]\n"
     ]
    }
   ],
   "source": [
    "#reverse an array without using built-in function\n",
    "import numpy as np\n",
    "x=np.array([3,5,2,7,8,4,5])\n",
    "type(x)\n",
    "print(x[::-1])\n"
   ]
  },
  {
   "cell_type": "code",
   "execution_count": 17,
   "id": "e8a0fa9a-dc78-454d-b34d-3283dcbd9335",
   "metadata": {},
   "outputs": [
    {
     "name": "stdout",
     "output_type": "stream",
     "text": [
      "5\n",
      "4\n",
      "8\n",
      "7\n",
      "2\n",
      "5\n",
      "3\n"
     ]
    }
   ],
   "source": [
    "#reverse an array without using for loop\n",
    "import numpy as np\n",
    "x=np.array([3,5,2,7,8,4,5])\n",
    "type(x)\n",
    "n=len(x)\n",
    "for i in range(n-1,-1,-1):\n",
    "    print(x[i])"
   ]
  },
  {
   "cell_type": "code",
   "execution_count": 19,
   "id": "6d9c9325-0d7a-4b21-81ce-d33dc6aea3d0",
   "metadata": {},
   "outputs": [
    {
     "name": "stdout",
     "output_type": "stream",
     "text": [
      "[5, 4, 8, 7, 2, 5, 3]\n"
     ]
    }
   ],
   "source": [
    "#reverse an array without using for loop\n",
    "import numpy as np\n",
    "x=np.array([3,5,2,7,8,4,5])\n",
    "type(x)\n",
    "n=len(x)\n",
    "new_arr=[]\n",
    "for i in range(n-1,-1,-1):\n",
    "    new_arr.append(x[i])\n",
    "print(new_arr)"
   ]
  }
 ],
 "metadata": {
  "kernelspec": {
   "display_name": "Python 3 (ipykernel)",
   "language": "python",
   "name": "python3"
  },
  "language_info": {
   "codemirror_mode": {
    "name": "ipython",
    "version": 3
   },
   "file_extension": ".py",
   "mimetype": "text/x-python",
   "name": "python",
   "nbconvert_exporter": "python",
   "pygments_lexer": "ipython3",
   "version": "3.12.4"
  }
 },
 "nbformat": 4,
 "nbformat_minor": 5
}
