{
 "cells": [
  {
   "cell_type": "code",
   "execution_count": 1,
   "id": "08541fe8-2299-456f-a8d7-c353afecaa55",
   "metadata": {},
   "outputs": [
    {
     "name": "stdin",
     "output_type": "stream",
     "text": [
      "Enter number of elements:  4\n",
      "Enter element 1:  45\n",
      "Enter element 2:  09\n",
      "Enter element 3:  84\n",
      "Enter element 4:  41\n"
     ]
    },
    {
     "name": "stdout",
     "output_type": "stream",
     "text": [
      "Second highest element: 45\n"
     ]
    }
   ],
   "source": [
    "def second_highest():\n",
    "    n = int(input(\"Enter number of elements: \"))\n",
    "    arr = [int(input(f\"Enter element {i+1}: \")) for i in range(n)]\n",
    "    arr = list(set(arr))  # Remove duplicates\n",
    "    arr.sort()\n",
    "    if len(arr) >= 2:\n",
    "        print(\"Second highest element:\", arr[-2])\n",
    "    else:\n",
    "        print(\"Second highest element not found.\")\n",
    "\n",
    "second_highest()"
   ]
  }
 ],
 "metadata": {
  "kernelspec": {
   "display_name": "Python 3 (ipykernel)",
   "language": "python",
   "name": "python3"
  },
  "language_info": {
   "codemirror_mode": {
    "name": "ipython",
    "version": 3
   },
   "file_extension": ".py",
   "mimetype": "text/x-python",
   "name": "python",
   "nbconvert_exporter": "python",
   "pygments_lexer": "ipython3",
   "version": "3.12.4"
  }
 },
 "nbformat": 4,
 "nbformat_minor": 5
}
