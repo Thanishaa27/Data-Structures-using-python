{
 "cells": [
  {
   "cell_type": "code",
   "execution_count": null,
   "id": "83176bc7-99e5-418b-b8b6-7f5d26e45f11",
   "metadata": {},
   "outputs": [],
   "source": [
    "#3. Product of All Elements Except Itself\n",
    "def product_except_self(arr):\n",
    "    result = [1] * len(arr)\n",
    "    left_product = 1\n",
    "    for i in range(len(arr)):\n",
    "        result[i] *= left_product\n",
    "        left_product *= arr[i]\n",
    "\n",
    "    right_product = 1\n",
    "    for i in range(len(arr) - 1, -1, -1):\n",
    "        result[i] *= right_product\n",
    "        right_product *= arr[i]\n",
    "    \n",
    "    return result\n",
    "\n",
    "arr = [1, 2, 3, 4]\n",
    "print(product_except_self(arr))"
   ]
  }
 ],
 "metadata": {
  "kernelspec": {
   "display_name": "Python 3 (ipykernel)",
   "language": "python",
   "name": "python3"
  },
  "language_info": {
   "codemirror_mode": {
    "name": "ipython",
    "version": 3
   },
   "file_extension": ".py",
   "mimetype": "text/x-python",
   "name": "python",
   "nbconvert_exporter": "python",
   "pygments_lexer": "ipython3",
   "version": "3.12.4"
  }
 },
 "nbformat": 4,
 "nbformat_minor": 5
}
