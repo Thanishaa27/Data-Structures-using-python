{
 "cells": [
  {
   "cell_type": "code",
   "execution_count": 1,
   "id": "d052862d-e922-4ea4-902d-5a42e7e7c075",
   "metadata": {},
   "outputs": [
    {
     "name": "stdin",
     "output_type": "stream",
     "text": [
      "Enter number of elements:  3\n",
      "Enter element 1:  23\n",
      "Enter element 2:  45\n",
      "Enter element 3:  35\n",
      "Enter the element to insert:  56\n"
     ]
    },
    {
     "name": "stdout",
     "output_type": "stream",
     "text": [
      "Array after insertion: [23, 35, 45, 56]\n"
     ]
    }
   ],
   "source": [
    "#11. Write a program to insert an element at its proper position in a previously\n",
    "def insert_sorted():\n",
    "    n = int(input(\"Enter number of elements: \"))\n",
    "    arr = [int(input(f\"Enter element {i+1}: \")) for i in range(n)]\n",
    "    arr.sort()\n",
    "    element = int(input(\"Enter the element to insert: \"))\n",
    "    arr.append(element)\n",
    "    arr.sort()\n",
    "    print(\"Array after insertion:\", arr)\n",
    "\n",
    "insert_sorted()"
   ]
  }
 ],
 "metadata": {
  "kernelspec": {
   "display_name": "Python 3 (ipykernel)",
   "language": "python",
   "name": "python3"
  },
  "language_info": {
   "codemirror_mode": {
    "name": "ipython",
    "version": 3
   },
   "file_extension": ".py",
   "mimetype": "text/x-python",
   "name": "python",
   "nbconvert_exporter": "python",
   "pygments_lexer": "ipython3",
   "version": "3.12.4"
  }
 },
 "nbformat": 4,
 "nbformat_minor": 5
}
