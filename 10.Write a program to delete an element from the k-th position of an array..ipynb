{
 "cells": [
  {
   "cell_type": "code",
   "execution_count": 3,
   "id": "b6488aef-e2ce-4fc6-9bc0-6876e2616c51",
   "metadata": {},
   "outputs": [
    {
     "name": "stdin",
     "output_type": "stream",
     "text": [
      "Enter number of elements:  3\n",
      "Enter element 1:  23\n",
      "Enter element 2:  34\n",
      "Enter element 3:  56\n",
      "Enter the position to delete:  1\n"
     ]
    },
    {
     "name": "stdout",
     "output_type": "stream",
     "text": [
      "Array after deletion: [34, 56]\n"
     ]
    }
   ],
   "source": [
    "#10.Write a program to delete an element from the k-th position of an array.\n",
    "def delete_element():\n",
    "    n = int(input(\"Enter number of elements: \"))\n",
    "    arr = [int(input(f\"Enter element {i+1}: \")) for i in range(n)]\n",
    "    k = int(input(\"Enter the position to delete: \"))\n",
    "    if 1 <= k <= n:\n",
    "        del arr[k-1]\n",
    "        print(\"Array after deletion:\", arr)\n",
    "    else:\n",
    "        print(\"Invalid position.\")\n",
    "\n",
    "delete_element()\n"
   ]
  }
 ],
 "metadata": {
  "kernelspec": {
   "display_name": "Python 3 (ipykernel)",
   "language": "python",
   "name": "python3"
  },
  "language_info": {
   "codemirror_mode": {
    "name": "ipython",
    "version": 3
   },
   "file_extension": ".py",
   "mimetype": "text/x-python",
   "name": "python",
   "nbconvert_exporter": "python",
   "pygments_lexer": "ipython3",
   "version": "3.12.4"
  }
 },
 "nbformat": 4,
 "nbformat_minor": 5
}
