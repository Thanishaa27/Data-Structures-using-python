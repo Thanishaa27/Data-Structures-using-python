{
 "cells": [
  {
   "cell_type": "code",
   "execution_count": 1,
   "id": "5be66762-d193-429e-a70c-808dee682545",
   "metadata": {},
   "outputs": [
    {
     "name": "stdin",
     "output_type": "stream",
     "text": [
      "Enter number of elements:  4\n",
      "Enter element 1:  34\n",
      "Enter element 2:  56\n",
      "Enter element 3:  67\n",
      "Enter element 4:  89\n"
     ]
    },
    {
     "name": "stdout",
     "output_type": "stream",
     "text": [
      "Largest odd number: 89\n"
     ]
    }
   ],
   "source": [
    "#5. Write a program to largest odd number in a set of integers.\n",
    "\n",
    "def largest_odd():\n",
    "    n = int(input(\"Enter number of elements: \"))\n",
    "    arr = [int(input(f\"Enter element {i+1}: \")) for i in range(n)]\n",
    "    odd_numbers = [x for x in arr if x % 2 != 0]\n",
    "    if odd_numbers:\n",
    "        print(\"Largest odd number:\", max(odd_numbers))\n",
    "    else:\n",
    "        print(\"No odd numbers found.\")\n",
    "\n",
    "largest_odd()"
   ]
  }
 ],
 "metadata": {
  "kernelspec": {
   "display_name": "Python 3 (ipykernel)",
   "language": "python",
   "name": "python3"
  },
  "language_info": {
   "codemirror_mode": {
    "name": "ipython",
    "version": 3
   },
   "file_extension": ".py",
   "mimetype": "text/x-python",
   "name": "python",
   "nbconvert_exporter": "python",
   "pygments_lexer": "ipython3",
   "version": "3.12.4"
  }
 },
 "nbformat": 4,
 "nbformat_minor": 5
}
