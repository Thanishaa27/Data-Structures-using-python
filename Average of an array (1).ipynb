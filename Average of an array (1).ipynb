{
 "cells": [
  {
   "cell_type": "code",
   "execution_count": 7,
   "id": "9411ca9e-f32f-4594-bce3-2f9669637c33",
   "metadata": {},
   "outputs": [
    {
     "name": "stdout",
     "output_type": "stream",
     "text": [
      "Sum: 34\n",
      "Average: 4.857142857142857\n"
     ]
    }
   ],
   "source": [
    "#sum and average\n",
    "#no need user-input for arrays\n",
    "import array as ar\n",
    "x=ar.array('i',[3,5,2,7,8,4,5])\n",
    "type(x)\n",
    "x_sum=sum(x)\n",
    "print(\"Sum:\",x_sum)\n",
    "length=len(x)\n",
    "average=x_sum/length\n",
    "print(\"Average:\",average)"
   ]
  },
  {
   "cell_type": "code",
   "execution_count": 9,
   "id": "7c0ee8d4-356b-4b82-9ff2-227099dd2355",
   "metadata": {},
   "outputs": [
    {
     "name": "stdout",
     "output_type": "stream",
     "text": [
      "Sum: 34\n",
      "Average: 4.857142857142857\n"
     ]
    }
   ],
   "source": [
    "#sum and average\n",
    "import numpy as np\n",
    "x=np.array([3,5,2,7,8,4,5])\n",
    "type(x)\n",
    "x_sum=sum(x)\n",
    "print(\"Sum:\",x_sum)\n",
    "length=len(x)\n",
    "average=x_sum/length\n",
    "print(\"Average:\",average)"
   ]
  },
  {
   "cell_type": "code",
   "execution_count": null,
   "id": "0fc8d230-5e0a-43df-bd44-1c03ee067f80",
   "metadata": {},
   "outputs": [],
   "source": []
  }
 ],
 "metadata": {
  "kernelspec": {
   "display_name": "Python 3 (ipykernel)",
   "language": "python",
   "name": "python3"
  },
  "language_info": {
   "codemirror_mode": {
    "name": "ipython",
    "version": 3
   },
   "file_extension": ".py",
   "mimetype": "text/x-python",
   "name": "python",
   "nbconvert_exporter": "python",
   "pygments_lexer": "ipython3",
   "version": "3.12.4"
  }
 },
 "nbformat": 4,
 "nbformat_minor": 5
}
