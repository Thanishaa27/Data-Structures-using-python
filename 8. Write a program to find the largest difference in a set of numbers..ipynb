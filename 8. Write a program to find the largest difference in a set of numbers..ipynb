{
 "cells": [
  {
   "cell_type": "code",
   "execution_count": 3,
   "id": "d414262f-e63b-4fe2-be68-32155780f63b",
   "metadata": {},
   "outputs": [
    {
     "name": "stdin",
     "output_type": "stream",
     "text": [
      "Enter number of elements:  4\n",
      "Enter element 1:  10\n",
      "Enter element 2:  9\n",
      "Enter element 3:  8\n",
      "Enter element 4:  7\n"
     ]
    },
    {
     "name": "stdout",
     "output_type": "stream",
     "text": [
      "Largest difference: 3\n"
     ]
    }
   ],
   "source": [
    "#8. Write a program to find the largest difference in a set of numbers.\n",
    "\n",
    "def largest_difference():\n",
    "    n = int(input(\"Enter number of elements: \"))\n",
    "    arr = [int(input(f\"Enter element {i+1}: \")) for i in range(n)]\n",
    "    max_diff = max(arr) - min(arr)\n",
    "    print(f\"Largest difference: {max_diff}\")\n",
    "\n",
    "largest_difference()"
   ]
  }
 ],
 "metadata": {
  "kernelspec": {
   "display_name": "Python 3 (ipykernel)",
   "language": "python",
   "name": "python3"
  },
  "language_info": {
   "codemirror_mode": {
    "name": "ipython",
    "version": 3
   },
   "file_extension": ".py",
   "mimetype": "text/x-python",
   "name": "python",
   "nbconvert_exporter": "python",
   "pygments_lexer": "ipython3",
   "version": "3.12.4"
  }
 },
 "nbformat": 4,
 "nbformat_minor": 5
}
