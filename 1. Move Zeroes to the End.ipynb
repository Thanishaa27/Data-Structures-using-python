{
 "cells": [
  {
   "cell_type": "code",
   "execution_count": null,
   "id": "8e6f9545-1058-4b2f-8ef2-bb3ff2b86535",
   "metadata": {},
   "outputs": [],
   "source": [
    "#1. Move Zeroes to the End\n",
    "def move_zeroes(arr):\n",
    "    non_zero_index = 0\n",
    "    for i in range(len(arr)):\n",
    "        if arr[i] != 0:\n",
    "            arr[non_zero_index], arr[i] = arr[i], arr[non_zero_index]\n",
    "            non_zero_index += 1\n",
    "    return arr\n",
    "\n",
    "arr = [0, 1, 0, 3, 12]\n",
    "print(move_zeroes(arr))"
   ]
  }
 ],
 "metadata": {
  "kernelspec": {
   "display_name": "Python 3 (ipykernel)",
   "language": "python",
   "name": "python3"
  },
  "language_info": {
   "codemirror_mode": {
    "name": "ipython",
    "version": 3
   },
   "file_extension": ".py",
   "mimetype": "text/x-python",
   "name": "python",
   "nbconvert_exporter": "python",
   "pygments_lexer": "ipython3",
   "version": "3.12.4"
  }
 },
 "nbformat": 4,
 "nbformat_minor": 5
}
