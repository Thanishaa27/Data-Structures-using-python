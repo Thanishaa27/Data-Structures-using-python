{
 "cells": [
  {
   "cell_type": "code",
   "execution_count": 1,
   "id": "1b5cf15f-0713-4a20-b247-8d540ed118fb",
   "metadata": {},
   "outputs": [
    {
     "name": "stdin",
     "output_type": "stream",
     "text": [
      "Enter number of elements:  4\n",
      "Enter element 1:  31\n",
      "Enter element 2:  58\n",
      "Enter element 3:  90\n",
      "Enter element 4:  30\n"
     ]
    },
    {
     "name": "stdout",
     "output_type": "stream",
     "text": [
      "Count of odd numbers: 1\n"
     ]
    }
   ],
   "source": [
    "#4. Write a program to count odd numbers in a set of integers.\n",
    "\n",
    "def count_odds():\n",
    "    n = int(input(\"Enter number of elements: \"))\n",
    "    arr = [int(input(f\"Enter element {i+1}: \")) for i in range(n)]\n",
    "    count = sum(1 for x in arr if x % 2 != 0)\n",
    "    print(f\"Count of odd numbers: {count}\")\n",
    "\n",
    "count_odds()"
   ]
  },
  {
   "cell_type": "code",
   "execution_count": null,
   "id": "9df4dd8b-3640-413d-adb4-a72d6b6f3da7",
   "metadata": {},
   "outputs": [],
   "source": []
  }
 ],
 "metadata": {
  "kernelspec": {
   "display_name": "Python 3 (ipykernel)",
   "language": "python",
   "name": "python3"
  },
  "language_info": {
   "codemirror_mode": {
    "name": "ipython",
    "version": 3
   },
   "file_extension": ".py",
   "mimetype": "text/x-python",
   "name": "python",
   "nbconvert_exporter": "python",
   "pygments_lexer": "ipython3",
   "version": "3.12.4"
  }
 },
 "nbformat": 4,
 "nbformat_minor": 5
}
