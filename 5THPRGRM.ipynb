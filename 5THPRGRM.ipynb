{
 "cells": [
  {
   "cell_type": "code",
   "execution_count": 3,
   "id": "1a11a8e6-06a7-4162-acf3-30715672e88f",
   "metadata": {},
   "outputs": [
    {
     "name": "stdout",
     "output_type": "stream",
     "text": [
      "[[1, 0, 1], [0, 0, 0], [1, 0, 1]]\n"
     ]
    }
   ],
   "source": [
    "#5. Given an m x n matrix, if an element in the matrix is 0, set its entire row and column to 0. Do this in O(m * n) time complexity.\n",
    "#Output:[ [1, 0, 1],[0, 0, 0],[1, 0, 1] ]\n",
    "#Input:[ [1, 1, 1],[1, 0, 1],[1, 1, 1] ]\n",
    "def set_zeroes(matrix):\n",
    "    rows = len(matrix)\n",
    "    cols = len(matrix[0])\n",
    "    \n",
    "    zero_rows = set()\n",
    "    zero_cols = set()\n",
    "    \n",
    "    for i in range(rows):\n",
    "        for j in range(cols):\n",
    "            if matrix[i][j] == 0:\n",
    "                zero_rows.add(i)\n",
    "                zero_cols.add(j)\n",
    "    \n",
    "    for row in zero_rows:\n",
    "        for j in range(cols):\n",
    "            matrix[row][j] = 0\n",
    "    \n",
    "    for col in zero_cols:\n",
    "        for i in range(rows):\n",
    "            matrix[i][col] = 0\n",
    "    \n",
    "    return matrix\n",
    "\n",
    "matrix = [\n",
    "    [1, 1, 1],\n",
    "    [1, 0, 1],\n",
    "    [1, 1, 1]\n",
    "]\n",
    "print(set_zeroes(matrix))"
   ]
  }
 ],
 "metadata": {
  "kernelspec": {
   "display_name": "Python 3 (ipykernel)",
   "language": "python",
   "name": "python3"
  },
  "language_info": {
   "codemirror_mode": {
    "name": "ipython",
    "version": 3
   },
   "file_extension": ".py",
   "mimetype": "text/x-python",
   "name": "python",
   "nbconvert_exporter": "python",
   "pygments_lexer": "ipython3",
   "version": "3.12.4"
  }
 },
 "nbformat": 4,
 "nbformat_minor": 5
}
