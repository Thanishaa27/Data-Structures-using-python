{
 "cells": [
  {
   "cell_type": "code",
   "execution_count": null,
   "id": "6f01fe2a-4338-412f-a205-04e3268e725c",
   "metadata": {},
   "outputs": [],
   "source": [
    "#5. Minimum Number of Jumps to Reach End\n",
    "def min_jumps(arr):\n",
    "    if len(arr) <= 1:\n",
    "        return 0\n",
    "    if arr[0] == 0:\n",
    "        return -1 \n",
    "    jumps = 0\n",
    "    farthest = 0\n",
    "    current_end = 0\n",
    "\n",
    "    for i in range(len(arr) - 1):\n",
    "        farthest = max(farthest, i + arr[i])\n",
    "        if i == current_end:\n",
    "            jumps += 1\n",
    "            current_end = farthest\n",
    "            if current_end >= len(arr) - 1:\n",
    "                break\n",
    "\n",
    "    return jumps\n",
    "\n",
    "arr = [6, 2, 4, 0, 5, 1, 1, 4, 2, 9]\n",
    "print(min_jumps(arr))"
   ]
  }
 ],
 "metadata": {
  "kernelspec": {
   "display_name": "Python 3 (ipykernel)",
   "language": "python",
   "name": "python3"
  },
  "language_info": {
   "codemirror_mode": {
    "name": "ipython",
    "version": 3
   },
   "file_extension": ".py",
   "mimetype": "text/x-python",
   "name": "python",
   "nbconvert_exporter": "python",
   "pygments_lexer": "ipython3",
   "version": "3.12.4"
  }
 },
 "nbformat": 4,
 "nbformat_minor": 5
}
