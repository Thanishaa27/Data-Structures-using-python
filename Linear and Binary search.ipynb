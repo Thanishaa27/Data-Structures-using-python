{
 "cells": [
  {
   "cell_type": "code",
   "execution_count": 3,
   "id": "14c0b6a2-c459-42cf-ba97-e049d0cf4d0d",
   "metadata": {},
   "outputs": [
    {
     "name": "stdout",
     "output_type": "stream",
     "text": [
      "Linear Search: 4\n",
      "Binary Search: 4\n"
     ]
    }
   ],
   "source": [
    "def linear_search(arr):\n",
    "    for i in range(0, len(arr) - 1, 2):\n",
    "        if arr[i] != arr[i + 1]:\n",
    "            return arr[i]\n",
    "    return arr[-1]  # If the unique element is the last element\n",
    "def binary_search(arr):\n",
    "    left, right = 0, len(arr) - 1\n",
    "    \n",
    "    while left <= right:\n",
    "        mid = (left + right) // 2\n",
    "        \n",
    "        # Check if mid is the unique element\n",
    "        if (mid == 0 or arr[mid] != arr[mid - 1]) and (mid == len(arr) - 1 or arr[mid] != arr[mid + 1]):\n",
    "            return arr[mid]\n",
    "        \n",
    "        # If mid is even, check if it's in the left or right half\n",
    "        if mid % 2 == 0:\n",
    "            if arr[mid] == arr[mid + 1]:\n",
    "                left = mid + 2  # Move to the right half\n",
    "            else:\n",
    "                right = mid - 2  # Move to the left half\n",
    "        else:\n",
    "            if arr[mid] == arr[mid - 1]:\n",
    "                left = mid + 1  # Move to the right half\n",
    "            else:\n",
    "                right = mid - 1  # Move to the left half\n",
    "    return None  # Should never reach here for valid inputs\n",
    "arr = [1, 1, 2, 2, 3, 3, 4, 5, 5]\n",
    "print(\"Linear Search:\", linear_search(arr))\n",
    "print(\"Binary Search:\", binary_search(arr))\n",
    "\n",
    "\n",
    "#Comparison of Efficiency:\n",
    "#Linear Search is simpler but less efficient, especially for large arrays. It has a linear time complexity, meaning that if the array grows in size, the time taken will increase proportionally.\n",
    "\n",
    "#Binary Search is much more efficient with a logarithmic time complexity, making it suitable for larger arrays. It dramatically reduces the number of comparisons required."
   ]
  },
  {
   "cell_type": "code",
   "execution_count": null,
   "id": "8967fa56-8061-4ecc-af04-1ab1d94f6525",
   "metadata": {},
   "outputs": [],
   "source": [
    "  "
   ]
  }
 ],
 "metadata": {
  "kernelspec": {
   "display_name": "Python 3 (ipykernel)",
   "language": "python",
   "name": "python3"
  },
  "language_info": {
   "codemirror_mode": {
    "name": "ipython",
    "version": 3
   },
   "file_extension": ".py",
   "mimetype": "text/x-python",
   "name": "python",
   "nbconvert_exporter": "python",
   "pygments_lexer": "ipython3",
   "version": "3.12.4"
  }
 },
 "nbformat": 4,
 "nbformat_minor": 5
}
