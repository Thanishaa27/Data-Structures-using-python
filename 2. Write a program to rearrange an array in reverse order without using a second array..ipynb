{
 "cells": [
  {
   "cell_type": "code",
   "execution_count": 1,
   "id": "b4abbd73-4a29-4c77-89b6-fdaca2ef00d1",
   "metadata": {},
   "outputs": [
    {
     "name": "stdin",
     "output_type": "stream",
     "text": [
      "Enter number of elements:  3\n",
      "Enter element 1:  45\n",
      "Enter element 2:  67\n",
      "Enter element 3:  89\n"
     ]
    },
    {
     "name": "stdout",
     "output_type": "stream",
     "text": [
      "Reversed array: [89, 67, 45]\n"
     ]
    }
   ],
   "source": [
    "#2. Write a program to rearrange an array in reverse order without using a second array.\n",
    "def reverse_array():\n",
    "    n = int(input(\"Enter number of elements: \"))\n",
    "    arr = [int(input(f\"Enter element {i+1}: \")) for i in range(n)]\n",
    "    arr.reverse()\n",
    "    print(\"Reversed array:\", arr)\n",
    "\n",
    "reverse_array()"
   ]
  }
 ],
 "metadata": {
  "kernelspec": {
   "display_name": "Python 3 (ipykernel)",
   "language": "python",
   "name": "python3"
  },
  "language_info": {
   "codemirror_mode": {
    "name": "ipython",
    "version": 3
   },
   "file_extension": ".py",
   "mimetype": "text/x-python",
   "name": "python",
   "nbconvert_exporter": "python",
   "pygments_lexer": "ipython3",
   "version": "3.12.4"
  }
 },
 "nbformat": 4,
 "nbformat_minor": 5
}
