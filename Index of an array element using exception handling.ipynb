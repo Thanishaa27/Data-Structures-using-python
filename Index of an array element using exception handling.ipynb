{
 "cells": [
  {
   "cell_type": "code",
   "execution_count": 7,
   "id": "91c88ca7-2c0f-40b6-b9c2-5bc111ae289b",
   "metadata": {},
   "outputs": [
    {
     "name": "stdin",
     "output_type": "stream",
     "text": [
      " 30\n"
     ]
    },
    {
     "name": "stdout",
     "output_type": "stream",
     "text": [
      "1\n"
     ]
    }
   ],
   "source": [
    "#function that takes an array and an ele as ip, and returns the index of the ele of the array. If ele not found,return -1. Use exception handlinh concept\n",
    "import array as arr\n",
    "x=arr.array('i',[10,30,20,60,50])\n",
    "ele=int(input())\n",
    "def e_index(x,ele):\n",
    "    n=len(x)\n",
    "    try:\n",
    "        for i in range(n):\n",
    "            if x[i]==ele:\n",
    "                return i\n",
    "        raise ValueError(\"not found\")\n",
    "    except ValueError:\n",
    "        return -1\n",
    "result=e_index(x,ele)\n",
    "print(result)\n",
    "    \n",
    "    \n",
    "    "
   ]
  },
  {
   "cell_type": "code",
   "execution_count": 9,
   "id": "d1894326-19c9-46c5-8d77-2447c01474ac",
   "metadata": {},
   "outputs": [
    {
     "name": "stdin",
     "output_type": "stream",
     "text": [
      " 70\n"
     ]
    },
    {
     "name": "stdout",
     "output_type": "stream",
     "text": [
      "-1\n"
     ]
    }
   ],
   "source": [
    "#using numpy\n",
    "\n",
    "import numpy as np\n",
    "x=np.array([10,30,20,60,50])\n",
    "ele=int(input())\n",
    "def e_index(x,ele):\n",
    "    n=len(x)\n",
    "    try:\n",
    "        for i in range(n):\n",
    "            if x[i]==ele:\n",
    "                return i\n",
    "        raise ValueError(\"not found\")\n",
    "    except ValueError:\n",
    "        return -1\n",
    "result=e_index(x,ele)\n",
    "print(result)\n",
    "    \n",
    "    \n",
    "    "
   ]
  }
 ],
 "metadata": {
  "kernelspec": {
   "display_name": "Python 3 (ipykernel)",
   "language": "python",
   "name": "python3"
  },
  "language_info": {
   "codemirror_mode": {
    "name": "ipython",
    "version": 3
   },
   "file_extension": ".py",
   "mimetype": "text/x-python",
   "name": "python",
   "nbconvert_exporter": "python",
   "pygments_lexer": "ipython3",
   "version": "3.12.4"
  }
 },
 "nbformat": 4,
 "nbformat_minor": 5
}
